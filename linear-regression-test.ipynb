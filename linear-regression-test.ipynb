{
 "cells": [
  {
   "cell_type": "code",
   "execution_count": 1,
   "id": "13110ff7",
   "metadata": {
    "_cell_guid": "b1076dfc-b9ad-4769-8c92-a6c4dae69d19",
    "_uuid": "8f2839f25d086af736a60e9eeb907d3b93b6e0e5",
    "execution": {
     "iopub.execute_input": "2024-06-28T20:43:55.175479Z",
     "iopub.status.busy": "2024-06-28T20:43:55.175012Z",
     "iopub.status.idle": "2024-06-28T20:43:57.938482Z",
     "shell.execute_reply": "2024-06-28T20:43:57.937265Z"
    },
    "papermill": {
     "duration": 2.772607,
     "end_time": "2024-06-28T20:43:57.941252",
     "exception": false,
     "start_time": "2024-06-28T20:43:55.168645",
     "status": "completed"
    },
    "tags": []
   },
   "outputs": [],
   "source": [
    "# import statements\n",
    "import numpy as np\n",
    "import matplotlib.pyplot as plt\n",
    "import pandas as pd\n",
    "from sklearn.linear_model import SGDRegressor\n",
    "from sklearn.preprocessing import StandardScaler"
   ]
  },
  {
   "cell_type": "code",
   "execution_count": 2,
   "id": "5e76068e",
   "metadata": {
    "execution": {
     "iopub.execute_input": "2024-06-28T20:43:57.951332Z",
     "iopub.status.busy": "2024-06-28T20:43:57.950671Z",
     "iopub.status.idle": "2024-06-28T20:43:57.995863Z",
     "shell.execute_reply": "2024-06-28T20:43:57.994585Z"
    },
    "papermill": {
     "duration": 0.053291,
     "end_time": "2024-06-28T20:43:57.998744",
     "exception": false,
     "start_time": "2024-06-28T20:43:57.945453",
     "status": "completed"
    },
    "tags": []
   },
   "outputs": [
    {
     "data": {
      "text/html": [
       "<div>\n",
       "<style scoped>\n",
       "    .dataframe tbody tr th:only-of-type {\n",
       "        vertical-align: middle;\n",
       "    }\n",
       "\n",
       "    .dataframe tbody tr th {\n",
       "        vertical-align: top;\n",
       "    }\n",
       "\n",
       "    .dataframe thead th {\n",
       "        text-align: right;\n",
       "    }\n",
       "</style>\n",
       "<table border=\"1\" class=\"dataframe\">\n",
       "  <thead>\n",
       "    <tr style=\"text-align: right;\">\n",
       "      <th></th>\n",
       "      <th>x</th>\n",
       "      <th>y</th>\n",
       "    </tr>\n",
       "  </thead>\n",
       "  <tbody>\n",
       "    <tr>\n",
       "      <th>0</th>\n",
       "      <td>77</td>\n",
       "      <td>79.775152</td>\n",
       "    </tr>\n",
       "    <tr>\n",
       "      <th>1</th>\n",
       "      <td>21</td>\n",
       "      <td>23.177279</td>\n",
       "    </tr>\n",
       "    <tr>\n",
       "      <th>2</th>\n",
       "      <td>22</td>\n",
       "      <td>25.609262</td>\n",
       "    </tr>\n",
       "    <tr>\n",
       "      <th>3</th>\n",
       "      <td>20</td>\n",
       "      <td>17.857388</td>\n",
       "    </tr>\n",
       "    <tr>\n",
       "      <th>4</th>\n",
       "      <td>36</td>\n",
       "      <td>41.849864</td>\n",
       "    </tr>\n",
       "  </tbody>\n",
       "</table>\n",
       "</div>"
      ],
      "text/plain": [
       "    x          y\n",
       "0  77  79.775152\n",
       "1  21  23.177279\n",
       "2  22  25.609262\n",
       "3  20  17.857388\n",
       "4  36  41.849864"
      ]
     },
     "execution_count": 2,
     "metadata": {},
     "output_type": "execute_result"
    }
   ],
   "source": [
    "# load the dataset\n",
    "train_data = pd.read_csv('/kaggle/input/random-linear-regression/test.csv')\n",
    "test_data = pd.read_csv('/kaggle/input/random-linear-regression/test.csv')\n",
    "train_data.head()\n"
   ]
  },
  {
   "cell_type": "code",
   "execution_count": 3,
   "id": "bc6d059b",
   "metadata": {
    "execution": {
     "iopub.execute_input": "2024-06-28T20:43:58.008831Z",
     "iopub.status.busy": "2024-06-28T20:43:58.008444Z",
     "iopub.status.idle": "2024-06-28T20:43:58.422791Z",
     "shell.execute_reply": "2024-06-28T20:43:58.421494Z"
    },
    "papermill": {
     "duration": 0.422512,
     "end_time": "2024-06-28T20:43:58.425532",
     "exception": false,
     "start_time": "2024-06-28T20:43:58.003020",
     "status": "completed"
    },
    "tags": []
   },
   "outputs": [
    {
     "data": {
      "text/plain": [
       "<matplotlib.collections.PathCollection at 0x7c854c989360>"
      ]
     },
     "execution_count": 3,
     "metadata": {},
     "output_type": "execute_result"
    },
    {
     "data": {
      "image/png": "[encoded data removed]",
      "text/plain": [
       "<Figure size 640x480 with 1 Axes>"
      ]
     },
     "metadata": {},
     "output_type": "display_data"
    }
   ],
   "source": [
    "# plotting data\n",
    "x_train = train_data['x']\n",
    "x_train = x_train.values.reshape(-1,1)\n",
    "y_train = train_data['y']\n",
    "plt.scatter(x_train,y_train)"
   ]
  },
  {
   "cell_type": "code",
   "execution_count": 4,
   "id": "f8681ca5",
   "metadata": {
    "execution": {
     "iopub.execute_input": "2024-06-28T20:43:58.437018Z",
     "iopub.status.busy": "2024-06-28T20:43:58.436613Z",
     "iopub.status.idle": "2024-06-28T20:43:58.444031Z",
     "shell.execute_reply": "2024-06-28T20:43:58.442796Z"
    },
    "papermill": {
     "duration": 0.016435,
     "end_time": "2024-06-28T20:43:58.446899",
     "exception": false,
     "start_time": "2024-06-28T20:43:58.430464",
     "status": "completed"
    },
    "tags": []
   },
   "outputs": [],
   "source": [
    "# z-score normalization\n",
    "scaler = StandardScaler()\n",
    "x_train = scaler.fit_transform(x_train)"
   ]
  },
  {
   "cell_type": "code",
   "execution_count": 5,
   "id": "d86244f5",
   "metadata": {
    "execution": {
     "iopub.execute_input": "2024-06-28T20:43:58.458584Z",
     "iopub.status.busy": "2024-06-28T20:43:58.458174Z",
     "iopub.status.idle": "2024-06-28T20:43:58.473567Z",
     "shell.execute_reply": "2024-06-28T20:43:58.472378Z"
    },
    "papermill": {
     "duration": 0.024481,
     "end_time": "2024-06-28T20:43:58.476310",
     "exception": false,
     "start_time": "2024-06-28T20:43:58.451829",
     "status": "completed"
    },
    "tags": []
   },
   "outputs": [
    {
     "data": {
      "text/html": [
       "<style>#sk-container-id-1 {color: black;background-color: white;}#sk-container-id-1 pre{padding: 0;}#sk-container-id-1 div.sk-toggleable {background-color: white;}#sk-container-id-1 label.sk-toggleable__label {cursor: pointer;display: block;width: 100%;margin-bottom: 0;padding: 0.3em;box-sizing: border-box;text-align: center;}#sk-container-id-1 label.sk-toggleable__label-arrow:before {content: \"▸\";float: left;margin-right: 0.25em;color: #696969;}#sk-container-id-1 label.sk-toggleable__label-arrow:hover:before {color: black;}#sk-container-id-1 div.sk-estimator:hover label.sk-toggleable__label-arrow:before {color: black;}#sk-container-id-1 div.sk-toggleable__content {max-height: 0;max-width: 0;overflow: hidden;text-align: left;background-color: #f0f8ff;}#sk-container-id-1 div.sk-toggleable__content pre {margin: 0.2em;color: black;border-radius: 0.25em;background-color: #f0f8ff;}#sk-container-id-1 input.sk-toggleable__control:checked~div.sk-toggleable__content {max-height: 200px;max-width: 100%;overflow: auto;}#sk-container-id-1 input.sk-toggleable__control:checked~label.sk-toggleable__label-arrow:before {content: \"▾\";}#sk-container-id-1 div.sk-estimator input.sk-toggleable__control:checked~label.sk-toggleable__label {background-color: #d4ebff;}#sk-container-id-1 div.sk-label input.sk-toggleable__control:checked~label.sk-toggleable__label {background-color: #d4ebff;}#sk-container-id-1 input.sk-hidden--visually {border: 0;clip: rect(1px 1px 1px 1px);clip: rect(1px, 1px, 1px, 1px);height: 1px;margin: -1px;overflow: hidden;padding: 0;position: absolute;width: 1px;}#sk-container-id-1 div.sk-estimator {font-family: monospace;background-color: #f0f8ff;border: 1px dotted black;border-radius: 0.25em;box-sizing: border-box;margin-bottom: 0.5em;}#sk-container-id-1 div.sk-estimator:hover {background-color: #d4ebff;}#sk-container-id-1 div.sk-parallel-item::after {content: \"\";width: 100%;border-bottom: 1px solid gray;flex-grow: 1;}#sk-container-id-1 div.sk-label:hover label.sk-toggleable__label {background-color: #d4ebff;}#sk-container-id-1 div.sk-serial::before {content: \"\";position: absolute;border-left: 1px solid gray;box-sizing: border-box;top: 0;bottom: 0;left: 50%;z-index: 0;}#sk-container-id-1 div.sk-serial {display: flex;flex-direction: column;align-items: center;background-color: white;padding-right: 0.2em;padding-left: 0.2em;position: relative;}#sk-container-id-1 div.sk-item {position: relative;z-index: 1;}#sk-container-id-1 div.sk-parallel {display: flex;align-items: stretch;justify-content: center;background-color: white;position: relative;}#sk-container-id-1 div.sk-item::before, #sk-container-id-1 div.sk-parallel-item::before {content: \"\";position: absolute;border-left: 1px solid gray;box-sizing: border-box;top: 0;bottom: 0;left: 50%;z-index: -1;}#sk-container-id-1 div.sk-parallel-item {display: flex;flex-direction: column;z-index: 1;position: relative;background-color: white;}#sk-container-id-1 div.sk-parallel-item:first-child::after {align-self: flex-end;width: 50%;}#sk-container-id-1 div.sk-parallel-item:last-child::after {align-self: flex-start;width: 50%;}#sk-container-id-1 div.sk-parallel-item:only-child::after {width: 0;}#sk-container-id-1 div.sk-dashed-wrapped {border: 1px dashed gray;margin: 0 0.4em 0.5em 0.4em;box-sizing: border-box;padding-bottom: 0.4em;background-color: white;}#sk-container-id-1 div.sk-label label {font-family: monospace;font-weight: bold;display: inline-block;line-height: 1.2em;}#sk-container-id-1 div.sk-label-container {text-align: center;}#sk-container-id-1 div.sk-container {/* jupyter's `normalize.less` sets `[hidden] { display: none; }` but bootstrap.min.css set `[hidden] { display: none !important; }` so we also need the `!important` here to be able to override the default hidden behavior on the sphinx rendered scikit-learn.org. See: https://github.com/scikit-learn/scikit-learn/issues/21755 */display: inline-block !important;position: relative;}#sk-container-id-1 div.sk-text-repr-fallback {display: none;}</style><div id=\"sk-container-id-1\" class=\"sk-top-container\"><div class=\"sk-text-repr-fallback\"><pre>SGDRegressor(max_iter=1000000)</pre><b>In a Jupyter environment, please rerun this cell to show the HTML representation or trust the notebook. <br />On GitHub, the HTML representation is unable to render, please try loading this page with nbviewer.org.</b></div><div class=\"sk-container\" hidden><div class=\"sk-item\"><div class=\"sk-estimator sk-toggleable\"><input class=\"sk-toggleable__control sk-hidden--visually\" id=\"sk-estimator-id-1\" type=\"checkbox\" checked><label for=\"sk-estimator-id-1\" class=\"sk-toggleable__label sk-toggleable__label-arrow\">SGDRegressor</label><div class=\"sk-toggleable__content\"><pre>SGDRegressor(max_iter=1000000)</pre></div></div></div></div></div>"
      ],
      "text/plain": [
       "SGDRegressor(max_iter=1000000)"
      ]
     },
     "execution_count": 5,
     "metadata": {},
     "output_type": "execute_result"
    }
   ],
   "source": [
    "# model fitting\n",
    "sgdr = SGDRegressor(max_iter = 1000000)\n",
    "sgdr.fit(x_train,y_train)"
   ]
  },
  {
   "cell_type": "code",
   "execution_count": 6,
   "id": "4c8cf4f7",
   "metadata": {
    "execution": {
     "iopub.execute_input": "2024-06-28T20:43:58.488265Z",
     "iopub.status.busy": "2024-06-28T20:43:58.487809Z",
     "iopub.status.idle": "2024-06-28T20:43:58.494552Z",
     "shell.execute_reply": "2024-06-28T20:43:58.493190Z"
    },
    "papermill": {
     "duration": 0.016199,
     "end_time": "2024-06-28T20:43:58.497618",
     "exception": false,
     "start_time": "2024-06-28T20:43:58.481419",
     "status": "completed"
    },
    "tags": []
   },
   "outputs": [
    {
     "name": "stdout",
     "output_type": "stream",
     "text": [
      "[51.19661695] [28.86442189]\n"
     ]
    }
   ],
   "source": [
    "# w and b parameters\n",
    "b = sgdr.intercept_\n",
    "w_coef = sgdr.coef_\n",
    "print(b, w_coef)"
   ]
  },
  {
   "cell_type": "code",
   "execution_count": 7,
   "id": "16d74d0a",
   "metadata": {
    "execution": {
     "iopub.execute_input": "2024-06-28T20:43:58.509958Z",
     "iopub.status.busy": "2024-06-28T20:43:58.509541Z",
     "iopub.status.idle": "2024-06-28T20:43:58.779247Z",
     "shell.execute_reply": "2024-06-28T20:43:58.777745Z"
    },
    "papermill": {
     "duration": 0.279206,
     "end_time": "2024-06-28T20:43:58.782285",
     "exception": false,
     "start_time": "2024-06-28T20:43:58.503079",
     "status": "completed"
    },
    "tags": []
   },
   "outputs": [
    {
     "data": {
      "image/png": "[encoded data removed]",
      "text/plain": [
       "<Figure size 640x480 with 1 Axes>"
      ]
     },
     "metadata": {},
     "output_type": "display_data"
    }
   ],
   "source": [
    "# plotting model line against data\n",
    "plt.plot(x_train, w_coef * x_train + b,c='r')\n",
    "plt.scatter(x_train,y_train)\n",
    "plt.show()"
   ]
  },
  {
   "cell_type": "code",
   "execution_count": 8,
   "id": "bea96843",
   "metadata": {
    "execution": {
     "iopub.execute_input": "2024-06-28T20:43:58.796788Z",
     "iopub.status.busy": "2024-06-28T20:43:58.796366Z",
     "iopub.status.idle": "2024-06-28T20:43:58.806285Z",
     "shell.execute_reply": "2024-06-28T20:43:58.805080Z"
    },
    "papermill": {
     "duration": 0.020294,
     "end_time": "2024-06-28T20:43:58.809036",
     "exception": false,
     "start_time": "2024-06-28T20:43:58.788742",
     "status": "completed"
    },
    "tags": []
   },
   "outputs": [
    {
     "name": "stdout",
     "output_type": "stream",
     "text": [
      "model prediction : [19.86908228]\n",
      "actual value: 17.85738813\n",
      "model average precision: [88.73466752]\n"
     ]
    }
   ],
   "source": [
    "# sample data\n",
    "actual_value = train_data.at[3,'y']\n",
    "sample_data = train_data.at[3,'x']\n",
    "\n",
    "# normalization\n",
    "mean = 50.936667\n",
    "std = 28.504286\n",
    "x_example = (sample_data - mean)/std\n",
    "\n",
    "\n",
    "# making a prediction\n",
    "prediction = w_coef * x_example + b\n",
    "\n",
    "# real value : 17.857388\n",
    "print(f\"model prediction : {prediction}\")\n",
    "print(f\"actual value: {actual_value}\")\n",
    "precision = np.abs(((actual_value - prediction)/ actual_value ) * 100)\n",
    "print(f\"model average precision: {100 - precision}\")"
   ]
  }
 ],
 "metadata": {
  "kaggle": {
   "accelerator": "none",
   "dataSources": [
    {
     "datasetId": 1256,
     "sourceId": 2242,
     "sourceType": "datasetVersion"
    }
   ],
   "dockerImageVersionId": 30732,
   "isGpuEnabled": false,
   "isInternetEnabled": false,
   "language": "python",
   "sourceType": "notebook"
  },
  "kernelspec": {
   "display_name": "Python 3",
   "language": "python",
   "name": "python3"
  },
  "language_info": {
   "codemirror_mode": {
    "name": "ipython",
    "version": 3
   },
   "file_extension": ".py",
   "mimetype": "text/x-python",
   "name": "python",
   "nbconvert_exporter": "python",
   "pygments_lexer": "ipython3",
   "version": "3.10.13"
  },
  "papermill": {
   "default_parameters": {},
   "duration": 7.645594,
   "end_time": "2024-06-28T20:43:59.436871",
   "environment_variables": {},
   "exception": null,
   "input_path": "__notebook__.ipynb",
   "output_path": "__notebook__.ipynb",
   "parameters": {},
   "start_time": "2024-06-28T20:43:51.791277",
   "version": "2.5.0"
  }
 },
 "nbformat": 4,
 "nbformat_minor": 5
}
